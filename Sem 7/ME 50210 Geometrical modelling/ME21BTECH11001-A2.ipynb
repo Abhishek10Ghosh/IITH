{
 "cells": [
  {
   "cell_type": "markdown",
   "id": "49f5c6e4",
   "metadata": {},
   "source": [
    "### Q.3 Using a parametric curve representation approach, write a Matlab code to plot the following curve based on the different views of the curve given (10)."
   ]
  },
  {
   "cell_type": "markdown",
   "id": "cabc3cdc",
   "metadata": {},
   "source": [
    "The parametric equation of the given figure (Helix) is given by\n",
    "\n",
    "\n",
    "$$\n",
    "\\begin{aligned}\n",
    "x(t) &= r \\cdot \\cos(t) \\\\\n",
    "y(t) &= r \\cdot \\sin(t) \\\\\n",
    "z(t) &= c \\cdot t\n",
    "\\end{aligned}\n",
    "$$\n",
    "\n",
    "\n",
    "Where:\n",
    "- $r$ is the radius of the helix.\n",
    "- $c$ is a constant that determines the spacing between the loops.\n",
    "- $t$ is the parameter that varies along the curve."
   ]
  },
  {
   "cell_type": "code",
   "execution_count": null,
   "id": "0e536591",
   "metadata": {},
   "outputs": [],
   "source": []
  }
 ],
 "metadata": {
  "kernelspec": {
   "display_name": "Python 3 (ipykernel)",
   "language": "python",
   "name": "python3"
  },
  "language_info": {
   "codemirror_mode": {
    "name": "ipython",
    "version": 3
   },
   "file_extension": ".py",
   "mimetype": "text/x-python",
   "name": "python",
   "nbconvert_exporter": "python",
   "pygments_lexer": "ipython3",
   "version": "3.9.13"
  }
 },
 "nbformat": 4,
 "nbformat_minor": 5
}
